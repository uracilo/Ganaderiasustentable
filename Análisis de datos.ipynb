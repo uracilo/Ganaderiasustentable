{
 "cells": [
  {
   "cell_type": "code",
   "execution_count": 1,
   "metadata": {},
   "outputs": [],
   "source": [
    "# Importación de las librerías\n",
    "import pandas as pd\n",
    "import numpy as np\n",
    "import matplotlib.pyplot as plt"
   ]
  },
  {
   "cell_type": "code",
   "execution_count": 2,
   "metadata": {},
   "outputs": [
    {
     "name": "stdout",
     "output_type": "stream",
     "text": [
      "El valor del indicador de ambiental es= 1.4500000000000002\n"
     ]
    }
   ],
   "source": [
    "# tasa Superficie destinada a almacenar excretas\n",
    "SE= 0.05\n",
    "# tasa de Litros de agua para limpieza de excretas\n",
    "LA= 0.4\n",
    "# Veces de recolección al mes\n",
    "RM= 1\n",
    "# Peso de la vaca\n",
    "PV= 580\n",
    "# Factor excretas (8% del peso de la vaca)\n",
    "Fe= 0.8\n",
    "# tiempo en meses\n",
    "M = 30\n",
    "# Cabezas de ganado\n",
    "CG = 200\n",
    "# Excretas aprovechadas y contenidas\n",
    "EA= 2784000\n",
    "\n",
    "Ce = CG * PV * Fe * M \n",
    "# Cantidad de excretas\n",
    "CE = (Ce/EA)\n",
    "# tasa de aprovechamiento de excretas\n",
    "\n",
    "ambiental = (CE)+(SE)+(LA)/RM\n",
    "print('El valor del indicador de ambiental es= ' + str(ambiental))"
   ]
  },
  {
   "cell_type": "code",
   "execution_count": 3,
   "metadata": {},
   "outputs": [
    {
     "name": "stdout",
     "output_type": "stream",
     "text": [
      "El valor del indicador de social es= 6.0\n"
     ]
    }
   ],
   "source": [
    "#Capacidad de redes\n",
    "# Nivel de participacion en asociación con otros productores\n",
    "NP = 1\n",
    "# Participacion en gestión\n",
    "PG = 1\n",
    "# Capacitación en productividad en el ultimo año\n",
    "CP =0\n",
    "# Satisfacción Personal\n",
    "SP = 1\n",
    "#Trato entre los asociados\n",
    "C = 0\n",
    "# Espacio de produccion proporcional a los asociados\n",
    "EP = 0\n",
    "\n",
    "#Manejo interno\n",
    "# Conducción laboral \n",
    "CL = 1\n",
    "#Servicios de salud\n",
    "SS =0\n",
    "# Edad de los titulares de 15 a 64 años\n",
    "ET =0\n",
    "\n",
    "#Permanencia en el tiempo\n",
    "#Cantidad de sucesores directos\n",
    "PS = 2\n",
    "\n",
    "participacion = NP + PG + CP + SP\n",
    "confianza = CL-(SS+ET)\n",
    "capacidadRedes = participacion/confianza\n",
    "\n",
    "social = capacidadRedes * (CL + SS + ET) * PS\n",
    "\n",
    "\n",
    "# Las variables para el indicador SOCIAL son: \n",
    "#social = ((valor/(valor2))*(EP)*(PS)\n",
    "\n",
    "print('El valor del indicador de social es= '+str(social))"
   ]
  },
  {
   "cell_type": "code",
   "execution_count": 4,
   "metadata": {},
   "outputs": [
    {
     "name": "stdout",
     "output_type": "stream",
     "text": [
      "El valor del indicador de económico es= 2\n"
     ]
    }
   ],
   "source": [
    "#Sucesión a herederos (Durabilidad)\n",
    "SH= 1\n",
    "#Otras actividades de no agrónomas (Diversificación)\n",
    "OA= 1\n",
    "#Programas de créditos estatales (Autonomía)\n",
    "PCE=-1\n",
    "# Programas de créditos bancarios (Autonomía)\n",
    "PCB= 0\n",
    "# Capacidad de endeudamiento (PCE+PCB*-1)\n",
    "CE= PCE + PCB *-1\n",
    "# Productividad (Rentabilidad)\n",
    "P= 1\n",
    "economico = SH + OA + CE + P\n",
    "print('El valor del indicador de económico es= '+ str(economico))"
   ]
  },
  {
   "cell_type": "code",
   "execution_count": 5,
   "metadata": {},
   "outputs": [],
   "source": [
    "#valores aproximados a una gestión ideal sustentable\n",
    "economicor = 3\n",
    "ambientalr = 100\n",
    "socialr = 28"
   ]
  },
  {
   "cell_type": "code",
   "execution_count": 6,
   "metadata": {},
   "outputs": [],
   "source": [
    "#Gestion ganadera del rancho 1\n",
    "Ieconomico = (economico/economicor)\n",
    "Isocial = (social/socialr)\n",
    "Iambiental = (ambiental/ambientalr)\n",
    "IS = (Ieconomico + Iambiental + Isocial)"
   ]
  },
  {
   "cell_type": "code",
   "execution_count": 7,
   "metadata": {},
   "outputs": [
    {
     "data": {
      "text/html": [
       "<div>\n",
       "<style scoped>\n",
       "    .dataframe tbody tr th:only-of-type {\n",
       "        vertical-align: middle;\n",
       "    }\n",
       "\n",
       "    .dataframe tbody tr th {\n",
       "        vertical-align: top;\n",
       "    }\n",
       "\n",
       "    .dataframe thead th {\n",
       "        text-align: right;\n",
       "    }\n",
       "</style>\n",
       "<table border=\"1\" class=\"dataframe\">\n",
       "  <thead>\n",
       "    <tr style=\"text-align: right;\">\n",
       "      <th></th>\n",
       "      <th>0</th>\n",
       "    </tr>\n",
       "  </thead>\n",
       "  <tbody>\n",
       "    <tr>\n",
       "      <th>Social</th>\n",
       "      <td>0.214286</td>\n",
       "    </tr>\n",
       "    <tr>\n",
       "      <th>Ambiental</th>\n",
       "      <td>0.014500</td>\n",
       "    </tr>\n",
       "    <tr>\n",
       "      <th>Económico</th>\n",
       "      <td>0.666667</td>\n",
       "    </tr>\n",
       "    <tr>\n",
       "      <th>Índice de sustentabilidad</th>\n",
       "      <td>0.895452</td>\n",
       "    </tr>\n",
       "  </tbody>\n",
       "</table>\n",
       "</div>"
      ],
      "text/plain": [
       "                                  0\n",
       "Social                     0.214286\n",
       "Ambiental                  0.014500\n",
       "Económico                  0.666667\n",
       "Índice de sustentabilidad  0.895452"
      ]
     },
     "execution_count": 7,
     "metadata": {},
     "output_type": "execute_result"
    }
   ],
   "source": [
    "d = {'Social': [Isocial],\n",
    "     'Ambiental': [Iambiental],\n",
    "     'Económico': [Ieconomico],\n",
    "     'Índice de sustentabilidad':[IS]}\n",
    "df = pd.DataFrame(data=d).T\n",
    "df"
   ]
  },
  {
   "cell_type": "code",
   "execution_count": 8,
   "metadata": {},
   "outputs": [],
   "source": [
    "# Creación de un conjunto de datos aleatorio\n",
    "angles = np.linspace(0, 2 * np.pi, 3, endpoint=False)\n",
    "values = [Isocial,Iambiental,Ieconomico]\n",
    "\n",
    "#values = [0.15,1,0.67]\n"
   ]
  },
  {
   "cell_type": "code",
   "execution_count": 9,
   "metadata": {},
   "outputs": [],
   "source": [
    "# Se repite el primer valor para cerrar el gráfico\n",
    "angles=np.concatenate((angles, [angles[0]]))\n",
    "values=np.concatenate((values, [values[0]]))"
   ]
  },
  {
   "cell_type": "code",
   "execution_count": 10,
   "metadata": {},
   "outputs": [],
   "source": [
    "labels=[' Social', ' Ambiental', ' Económico']\n"
   ]
  },
  {
   "cell_type": "code",
   "execution_count": 11,
   "metadata": {},
   "outputs": [
    {
     "data": {
      "image/png": "[encoded data removed]",
      "text/plain": [
       "<Figure size 432x288 with 1 Axes>"
      ]
     },
     "metadata": {
      "needs_background": "light"
     },
     "output_type": "display_data"
    }
   ],
   "source": [
    "# Representación del mapa de calor\n",
    "plt.polar(angles, values, 'o-', linewidth=2)\n",
    "plt.fill(angles, values, alpha=0.25)\n",
    "plt.thetagrids(angles * 180 / np.pi, labels)\n",
    "plt.suptitle('Gestión Ganadera rancho 1', fontsize=16)\n",
    "plt.savefig('Gestión Ganadera rancho 1.png')"
   ]
  }
 ],
 "metadata": {
  "kernelspec": {
   "display_name": "Python 3",
   "language": "python",
   "name": "python3"
  },
  "language_info": {
   "codemirror_mode": {
    "name": "ipython",
    "version": 3
   },
   "file_extension": ".py",
   "mimetype": "text/x-python",
   "name": "python",
   "nbconvert_exporter": "python",
   "pygments_lexer": "ipython3",
   "version": "3.7.3"
  }
 },
 "nbformat": 4,
 "nbformat_minor": 2
}
